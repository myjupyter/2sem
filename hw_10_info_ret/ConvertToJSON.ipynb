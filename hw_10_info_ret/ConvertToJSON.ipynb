{
 "cells": [
  {
   "cell_type": "code",
   "execution_count": 7,
   "id": "6c56b3a9",
   "metadata": {},
   "outputs": [],
   "source": [
    "import json\n",
    "import xml.etree.ElementTree as ET"
   ]
  },
  {
   "cell_type": "code",
   "execution_count": 8,
   "id": "e4cdc0cb",
   "metadata": {
    "tags": []
   },
   "outputs": [],
   "source": [
    "__convertation_case = {\n",
    "    # '+-': 0,\n",
    "    '0': 0,\n",
    "    '+': 1,\n",
    "    '-': -1,\n",
    "    #'--':-1,\n",
    "    #'-no': -1,\n",
    "    #'no': -1,\n",
    "    #'n-': -1,\n",
    "    #'n0': -1\n",
    "}\n",
    "def convert_evaluation(e: str):\n",
    "    if __convertation_case.get(e) is None:\n",
    "        raise Exception(f'unexpected string {e}')\n",
    "    return __convertation_case.get(e)\n",
    "\n",
    "def add_attribute(tag: str, text: str, info: dict):\n",
    "    tag = tag.strip()\n",
    "    text = text.strip()\n",
    "    if tag == 'speech':\n",
    "        info.update({'speech': text})\n",
    "    if tag == 'evaluation':\n",
    "        info.update({'evaluation': __convertation_case.get(text)})\n",
    "\n",
    "def convert_to_json(filename: str) -> dict:\n",
    "    tree = ET.parse(filename)\n",
    "    json_train = {'data': []}\n",
    "    for child in tree.getroot():\n",
    "        text_json = {}\n",
    "        for c in child:\n",
    "            add_attribute(c.tag, c.text, text_json)\n",
    "        if text_json.get('evaluation') is not None:\n",
    "            json_train['data'].append(text_json)\n",
    "    return json_train\n",
    "\n",
    "def convert_xml_to_json_file(xmlfile: str, jsonfile: str):\n",
    "    new_json = convert_to_json(xmlfile)\n",
    "    with open(jsonfile, 'w') as file:\n",
    "        file.write(json.dumps(new_json, ensure_ascii=False))"
   ]
  },
  {
   "cell_type": "code",
   "execution_count": 9,
   "id": "11693f44",
   "metadata": {},
   "outputs": [],
   "source": [
    "convert_xml_to_json_file('data/news_eval_train.xml', 'data/new_eval_train.json')\n",
    "convert_xml_to_json_file('data/news_eval_test.xml', 'data/new_eval_test.json')"
   ]
  },
  {
   "cell_type": "code",
   "execution_count": null,
   "id": "0eb45dad",
   "metadata": {},
   "outputs": [],
   "source": []
  }
 ],
 "metadata": {
  "kernelspec": {
   "display_name": "conda_env",
   "language": "python",
   "name": "conda_env"
  },
  "language_info": {
   "codemirror_mode": {
    "name": "ipython",
    "version": 3
   },
   "file_extension": ".py",
   "mimetype": "text/x-python",
   "name": "python",
   "nbconvert_exporter": "python",
   "pygments_lexer": "ipython3",
   "version": "3.8.8"
  }
 },
 "nbformat": 4,
 "nbformat_minor": 5
}
